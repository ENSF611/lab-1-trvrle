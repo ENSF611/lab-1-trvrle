{
 "cells": [
  {
   "cell_type": "code",
   "execution_count": null,
   "metadata": {},
   "outputs": [],
   "source": []
  }
 ],
 "metadata": {
  "kernelspec": {
   "display_name": "Python 3.10.6 ('ensf-ml')",
   "language": "python",
   "name": "python3"
  },
  "language_info": {
   "name": "python",
   "version": "3.10.6"
  },
  "orig_nbformat": 4,
  "vscode": {
   "interpreter": {
    "hash": "176023f210cd6cb85d2b194b686f9790b7f4a9fe23aa7f74b3bc8afadf874342"
   }
  }
 },
 "nbformat": 4,
 "nbformat_minor": 2
}
